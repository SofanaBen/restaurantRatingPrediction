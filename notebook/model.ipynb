{
 "cells": [
  {
   "cell_type": "code",
   "execution_count": 1,
   "metadata": {},
   "outputs": [],
   "source": [
    "import os"
   ]
  },
  {
   "cell_type": "code",
   "execution_count": 2,
   "metadata": {},
   "outputs": [
    {
     "data": {
      "text/plain": [
       "'/Users/sofanabenoutiq/Desktop/restaurantRatingPredicti/restaurantRatingPrediction/notebook'"
      ]
     },
     "execution_count": 2,
     "metadata": {},
     "output_type": "execute_result"
    }
   ],
   "source": [
    "os.getcwd()"
   ]
  },
  {
   "cell_type": "code",
   "execution_count": 3,
   "metadata": {},
   "outputs": [],
   "source": [
    "os.chdir('/Users/sofanabenoutiq/Desktop/ProjectMl')"
   ]
  },
  {
   "cell_type": "code",
   "execution_count": 4,
   "metadata": {},
   "outputs": [],
   "source": [
    "from restaurantRating.entity.mode_factory import ModelFactory"
   ]
  },
  {
   "cell_type": "code",
   "execution_count": 5,
   "metadata": {},
   "outputs": [],
   "source": [
    "Model_File_Path = r'/Users/sofanabenoutiq/Desktop/ProjectMl/config/model.yaml'"
   ]
  },
  {
   "cell_type": "code",
   "execution_count": 6,
   "metadata": {},
   "outputs": [],
   "source": [
    "Model_Factory = ModelFactory(model_config_path=Model_File_Path)\n"
   ]
  },
  {
   "cell_type": "code",
   "execution_count": 7,
   "metadata": {},
   "outputs": [
    {
     "name": "stdout",
     "output_type": "stream",
     "text": [
      "{'fit_intercept': True}\n",
      "{'min_samples_leaf': 6}\n"
     ]
    }
   ],
   "source": [
    "mode_list = Model_Factory.get_initialized_model_list()"
   ]
  },
  {
   "cell_type": "code",
   "execution_count": 8,
   "metadata": {},
   "outputs": [
    {
     "data": {
      "text/plain": [
       "InitializedModelDetail(model_serial_number='module_0', model=LinearRegression(), param_grid_search={'fit_intercept': [True, False]}, model_name='sklearn.linear_model.LinearRegression')"
      ]
     },
     "execution_count": 8,
     "metadata": {},
     "output_type": "execute_result"
    }
   ],
   "source": [
    "mode_list[0]"
   ]
  },
  {
   "cell_type": "code",
   "execution_count": 9,
   "metadata": {},
   "outputs": [
    {
     "data": {
      "text/plain": [
       "InitializedModelDetail(model_serial_number='module_1', model=RandomForestRegressor(min_samples_leaf=6), param_grid_search={'min_samples_leaf': [6]}, model_name='sklearn.ensemble.RandomForestRegressor')"
      ]
     },
     "execution_count": 9,
     "metadata": {},
     "output_type": "execute_result"
    }
   ],
   "source": [
    "mode_list[1]"
   ]
  },
  {
   "cell_type": "code",
   "execution_count": 10,
   "metadata": {},
   "outputs": [],
   "source": [
    "train_data_model = r'/Users/sofanabenoutiq/Desktop/ProjectMl/artifact/artifact/data_transformation/2023-01-16-17-39-30/transformed_data/train/zom.npz'"
   ]
  },
  {
   "cell_type": "code",
   "execution_count": 11,
   "metadata": {},
   "outputs": [],
   "source": [
    "from restaurantRating.util.util import load_numpy_array_data"
   ]
  },
  {
   "cell_type": "code",
   "execution_count": 12,
   "metadata": {},
   "outputs": [],
   "source": [
    "train_data = load_numpy_array_data(train_data_model)"
   ]
  },
  {
   "cell_type": "code",
   "execution_count": 13,
   "metadata": {},
   "outputs": [],
   "source": [
    "x,y = train_data[:,:-1],train_data[:,-1]"
   ]
  },
  {
   "cell_type": "code",
   "execution_count": 14,
   "metadata": {},
   "outputs": [
    {
     "data": {
      "text/plain": [
       "array([[<9551x1847 sparse matrix of type '<class 'numpy.float64'>'\n",
       "        \twith 95510 stored elements in Compressed Sparse Row format>]],\n",
       "      dtype=object)"
      ]
     },
     "execution_count": 14,
     "metadata": {},
     "output_type": "execute_result"
    }
   ],
   "source": [
    "x"
   ]
  },
  {
   "cell_type": "code",
   "execution_count": 15,
   "metadata": {},
   "outputs": [
    {
     "data": {
      "text/plain": [
       "array([4.8], dtype=object)"
      ]
     },
     "execution_count": 15,
     "metadata": {},
     "output_type": "execute_result"
    }
   ],
   "source": [
    "y"
   ]
  },
  {
   "cell_type": "code",
   "execution_count": 16,
   "metadata": {},
   "outputs": [
    {
     "name": "stdout",
     "output_type": "stream",
     "text": [
      "{'fit_intercept': True}\n",
      "{'min_samples_leaf': 6}\n",
      "{'cv': 4, 'verbose': 2}\n",
      "Fitting 4 folds for each of 2 candidates, totalling 8 fits\n"
     ]
    },
    {
     "ename": "RestaurantRatingException",
     "evalue": "\n        Error occured in script: \n        [ /Users/sofanabenoutiq/Desktop/ProjectMl/restaurantRating/entity/mode_factory.py ] at \n        try block line number: [367] and exception block line number: [372] \n        error message: [\n        Error occured in script: \n        [ /Users/sofanabenoutiq/Desktop/ProjectMl/restaurantRating/entity/mode_factory.py ] at \n        try block line number: [320] and exception block line number: [325] \n        error message: [\n        Error occured in script: \n        [ /Users/sofanabenoutiq/Desktop/ProjectMl/restaurantRating/entity/mode_factory.py ] at \n        try block line number: [305] and exception block line number: [307] \n        error message: [\n        Error occured in script: \n        [ /Users/sofanabenoutiq/Desktop/ProjectMl/restaurantRating/entity/mode_factory.py ] at \n        try block line number: [240] and exception block line number: [251] \n        error message: [Cannot have number of splits n_splits=4 greater than the number of samples: n_samples=1.]\n        ]\n        ]\n        ]\n        ",
     "output_type": "error",
     "traceback": [
      "\u001b[0;31m---------------------------------------------------------------------------\u001b[0m",
      "\u001b[0;31mValueError\u001b[0m                                Traceback (most recent call last)",
      "\u001b[0;32m~/Desktop/ProjectMl/restaurantRating/entity/mode_factory.py\u001b[0m in \u001b[0;36mexecute_grid_search_operation\u001b[0;34m(self, initialized_model, input_feature, output_feature)\u001b[0m\n\u001b[1;32m    239\u001b[0m             \u001b[0mlogging\u001b[0m\u001b[0;34m.\u001b[0m\u001b[0minfo\u001b[0m\u001b[0;34m(\u001b[0m\u001b[0mmessage\u001b[0m\u001b[0;34m)\u001b[0m\u001b[0;34m\u001b[0m\u001b[0;34m\u001b[0m\u001b[0m\n\u001b[0;32m--> 240\u001b[0;31m             \u001b[0mgrid_search_cv\u001b[0m\u001b[0;34m.\u001b[0m\u001b[0mfit\u001b[0m\u001b[0;34m(\u001b[0m\u001b[0minput_feature\u001b[0m\u001b[0;34m,\u001b[0m \u001b[0moutput_feature\u001b[0m\u001b[0;34m)\u001b[0m\u001b[0;34m\u001b[0m\u001b[0;34m\u001b[0m\u001b[0m\n\u001b[0m\u001b[1;32m    241\u001b[0m             \u001b[0mmessage\u001b[0m \u001b[0;34m=\u001b[0m \u001b[0;34mf'{\">>\"* 30} f\"Training {type(initialized_model.model).__name__}\" completed {\"<<\"*30}'\u001b[0m\u001b[0;34m\u001b[0m\u001b[0;34m\u001b[0m\u001b[0m\n",
      "\u001b[0;32m~/opt/anaconda3/envs/virtual/lib/python3.7/site-packages/sklearn/model_selection/_search.py\u001b[0m in \u001b[0;36mfit\u001b[0;34m(self, X, y, groups, **fit_params)\u001b[0m\n\u001b[1;32m    890\u001b[0m \u001b[0;34m\u001b[0m\u001b[0m\n\u001b[0;32m--> 891\u001b[0;31m             \u001b[0mself\u001b[0m\u001b[0;34m.\u001b[0m\u001b[0m_run_search\u001b[0m\u001b[0;34m(\u001b[0m\u001b[0mevaluate_candidates\u001b[0m\u001b[0;34m)\u001b[0m\u001b[0;34m\u001b[0m\u001b[0;34m\u001b[0m\u001b[0m\n\u001b[0m\u001b[1;32m    892\u001b[0m \u001b[0;34m\u001b[0m\u001b[0m\n",
      "\u001b[0;32m~/opt/anaconda3/envs/virtual/lib/python3.7/site-packages/sklearn/model_selection/_search.py\u001b[0m in \u001b[0;36m_run_search\u001b[0;34m(self, evaluate_candidates)\u001b[0m\n\u001b[1;32m   1391\u001b[0m         \u001b[0;34m\"\"\"Search all candidates in param_grid\"\"\"\u001b[0m\u001b[0;34m\u001b[0m\u001b[0;34m\u001b[0m\u001b[0m\n\u001b[0;32m-> 1392\u001b[0;31m         \u001b[0mevaluate_candidates\u001b[0m\u001b[0;34m(\u001b[0m\u001b[0mParameterGrid\u001b[0m\u001b[0;34m(\u001b[0m\u001b[0mself\u001b[0m\u001b[0;34m.\u001b[0m\u001b[0mparam_grid\u001b[0m\u001b[0;34m)\u001b[0m\u001b[0;34m)\u001b[0m\u001b[0;34m\u001b[0m\u001b[0;34m\u001b[0m\u001b[0m\n\u001b[0m\u001b[1;32m   1393\u001b[0m \u001b[0;34m\u001b[0m\u001b[0m\n",
      "\u001b[0;32m~/opt/anaconda3/envs/virtual/lib/python3.7/site-packages/sklearn/model_selection/_search.py\u001b[0m in \u001b[0;36mevaluate_candidates\u001b[0;34m(candidate_params, cv, more_results)\u001b[0m\n\u001b[1;32m    850\u001b[0m                     for (cand_idx, parameters), (split_idx, (train, test)) in product(\n\u001b[0;32m--> 851\u001b[0;31m                         \u001b[0menumerate\u001b[0m\u001b[0;34m(\u001b[0m\u001b[0mcandidate_params\u001b[0m\u001b[0;34m)\u001b[0m\u001b[0;34m,\u001b[0m \u001b[0menumerate\u001b[0m\u001b[0;34m(\u001b[0m\u001b[0mcv\u001b[0m\u001b[0;34m.\u001b[0m\u001b[0msplit\u001b[0m\u001b[0;34m(\u001b[0m\u001b[0mX\u001b[0m\u001b[0;34m,\u001b[0m \u001b[0my\u001b[0m\u001b[0;34m,\u001b[0m \u001b[0mgroups\u001b[0m\u001b[0;34m)\u001b[0m\u001b[0;34m)\u001b[0m\u001b[0;34m\u001b[0m\u001b[0;34m\u001b[0m\u001b[0m\n\u001b[0m\u001b[1;32m    852\u001b[0m                     )\n",
      "\u001b[0;32m~/opt/anaconda3/envs/virtual/lib/python3.7/site-packages/sklearn/model_selection/_split.py\u001b[0m in \u001b[0;36msplit\u001b[0;34m(self, X, y, groups)\u001b[0m\n\u001b[1;32m    336\u001b[0m                     \u001b[0;34m\" than the number of samples: n_samples={1}.\"\u001b[0m\u001b[0;34m\u001b[0m\u001b[0;34m\u001b[0m\u001b[0m\n\u001b[0;32m--> 337\u001b[0;31m                 ).format(self.n_splits, n_samples)\n\u001b[0m\u001b[1;32m    338\u001b[0m             )\n",
      "\u001b[0;31mValueError\u001b[0m: Cannot have number of splits n_splits=4 greater than the number of samples: n_samples=1.",
      "\nThe above exception was the direct cause of the following exception:\n",
      "\u001b[0;31mRestaurantRatingException\u001b[0m                 Traceback (most recent call last)",
      "\u001b[0;32m~/Desktop/ProjectMl/restaurantRating/entity/mode_factory.py\u001b[0m in \u001b[0;36minitiate_best_parameter_search_for_initialized_model\u001b[0;34m(self, initialized_model, input_feature, output_feature)\u001b[0m\n\u001b[1;32m    304\u001b[0m                                                       \u001b[0minput_feature\u001b[0m\u001b[0;34m=\u001b[0m\u001b[0minput_feature\u001b[0m\u001b[0;34m,\u001b[0m\u001b[0;34m\u001b[0m\u001b[0;34m\u001b[0m\u001b[0m\n\u001b[0;32m--> 305\u001b[0;31m                                                       output_feature=output_feature)\n\u001b[0m\u001b[1;32m    306\u001b[0m         \u001b[0;32mexcept\u001b[0m \u001b[0mException\u001b[0m \u001b[0;32mas\u001b[0m \u001b[0me\u001b[0m\u001b[0;34m:\u001b[0m\u001b[0;34m\u001b[0m\u001b[0;34m\u001b[0m\u001b[0m\n",
      "\u001b[0;32m~/Desktop/ProjectMl/restaurantRating/entity/mode_factory.py\u001b[0m in \u001b[0;36mexecute_grid_search_operation\u001b[0;34m(self, initialized_model, input_feature, output_feature)\u001b[0m\n\u001b[1;32m    250\u001b[0m         \u001b[0;32mexcept\u001b[0m \u001b[0mException\u001b[0m \u001b[0;32mas\u001b[0m \u001b[0me\u001b[0m\u001b[0;34m:\u001b[0m\u001b[0;34m\u001b[0m\u001b[0;34m\u001b[0m\u001b[0m\n\u001b[0;32m--> 251\u001b[0;31m             \u001b[0;32mraise\u001b[0m \u001b[0mRestaurantRatingException\u001b[0m\u001b[0;34m(\u001b[0m\u001b[0me\u001b[0m\u001b[0;34m,\u001b[0m \u001b[0msys\u001b[0m\u001b[0;34m)\u001b[0m \u001b[0;32mfrom\u001b[0m \u001b[0me\u001b[0m\u001b[0;34m\u001b[0m\u001b[0;34m\u001b[0m\u001b[0m\n\u001b[0m\u001b[1;32m    252\u001b[0m \u001b[0;34m\u001b[0m\u001b[0m\n",
      "\u001b[0;31mRestaurantRatingException\u001b[0m: \n        Error occured in script: \n        [ /Users/sofanabenoutiq/Desktop/ProjectMl/restaurantRating/entity/mode_factory.py ] at \n        try block line number: [240] and exception block line number: [251] \n        error message: [Cannot have number of splits n_splits=4 greater than the number of samples: n_samples=1.]\n        ",
      "\nThe above exception was the direct cause of the following exception:\n",
      "\u001b[0;31mRestaurantRatingException\u001b[0m                 Traceback (most recent call last)",
      "\u001b[0;32m~/Desktop/ProjectMl/restaurantRating/entity/mode_factory.py\u001b[0m in \u001b[0;36minitiate_best_parameter_search_for_initialized_models\u001b[0;34m(self, initialized_model_list, input_feature, output_feature)\u001b[0m\n\u001b[1;32m    319\u001b[0m                     \u001b[0minput_feature\u001b[0m\u001b[0;34m=\u001b[0m\u001b[0minput_feature\u001b[0m\u001b[0;34m,\u001b[0m\u001b[0;34m\u001b[0m\u001b[0;34m\u001b[0m\u001b[0m\n\u001b[0;32m--> 320\u001b[0;31m                     \u001b[0moutput_feature\u001b[0m\u001b[0;34m=\u001b[0m\u001b[0moutput_feature\u001b[0m\u001b[0;34m\u001b[0m\u001b[0;34m\u001b[0m\u001b[0m\n\u001b[0m\u001b[1;32m    321\u001b[0m                 )\n",
      "\u001b[0;32m~/Desktop/ProjectMl/restaurantRating/entity/mode_factory.py\u001b[0m in \u001b[0;36minitiate_best_parameter_search_for_initialized_model\u001b[0;34m(self, initialized_model, input_feature, output_feature)\u001b[0m\n\u001b[1;32m    306\u001b[0m         \u001b[0;32mexcept\u001b[0m \u001b[0mException\u001b[0m \u001b[0;32mas\u001b[0m \u001b[0me\u001b[0m\u001b[0;34m:\u001b[0m\u001b[0;34m\u001b[0m\u001b[0;34m\u001b[0m\u001b[0m\n\u001b[0;32m--> 307\u001b[0;31m             \u001b[0;32mraise\u001b[0m \u001b[0mRestaurantRatingException\u001b[0m\u001b[0;34m(\u001b[0m\u001b[0me\u001b[0m\u001b[0;34m,\u001b[0m \u001b[0msys\u001b[0m\u001b[0;34m)\u001b[0m \u001b[0;32mfrom\u001b[0m \u001b[0me\u001b[0m\u001b[0;34m\u001b[0m\u001b[0;34m\u001b[0m\u001b[0m\n\u001b[0m\u001b[1;32m    308\u001b[0m \u001b[0;34m\u001b[0m\u001b[0m\n",
      "\u001b[0;31mRestaurantRatingException\u001b[0m: \n        Error occured in script: \n        [ /Users/sofanabenoutiq/Desktop/ProjectMl/restaurantRating/entity/mode_factory.py ] at \n        try block line number: [305] and exception block line number: [307] \n        error message: [\n        Error occured in script: \n        [ /Users/sofanabenoutiq/Desktop/ProjectMl/restaurantRating/entity/mode_factory.py ] at \n        try block line number: [240] and exception block line number: [251] \n        error message: [Cannot have number of splits n_splits=4 greater than the number of samples: n_samples=1.]\n        ]\n        ",
      "\nThe above exception was the direct cause of the following exception:\n",
      "\u001b[0;31mRestaurantRatingException\u001b[0m                 Traceback (most recent call last)",
      "\u001b[0;32m~/Desktop/ProjectMl/restaurantRating/entity/mode_factory.py\u001b[0m in \u001b[0;36mget_best_model\u001b[0;34m(self, X, y, base_accuracy)\u001b[0m\n\u001b[1;32m    366\u001b[0m                 \u001b[0minput_feature\u001b[0m\u001b[0;34m=\u001b[0m\u001b[0mX\u001b[0m\u001b[0;34m,\u001b[0m\u001b[0;34m\u001b[0m\u001b[0;34m\u001b[0m\u001b[0m\n\u001b[0;32m--> 367\u001b[0;31m                 \u001b[0moutput_feature\u001b[0m\u001b[0;34m=\u001b[0m\u001b[0my\u001b[0m\u001b[0;34m\u001b[0m\u001b[0;34m\u001b[0m\u001b[0m\n\u001b[0m\u001b[1;32m    368\u001b[0m             )\n",
      "\u001b[0;32m~/Desktop/ProjectMl/restaurantRating/entity/mode_factory.py\u001b[0m in \u001b[0;36minitiate_best_parameter_search_for_initialized_models\u001b[0;34m(self, initialized_model_list, input_feature, output_feature)\u001b[0m\n\u001b[1;32m    324\u001b[0m         \u001b[0;32mexcept\u001b[0m \u001b[0mException\u001b[0m \u001b[0;32mas\u001b[0m \u001b[0me\u001b[0m\u001b[0;34m:\u001b[0m\u001b[0;34m\u001b[0m\u001b[0;34m\u001b[0m\u001b[0m\n\u001b[0;32m--> 325\u001b[0;31m             \u001b[0;32mraise\u001b[0m \u001b[0mRestaurantRatingException\u001b[0m\u001b[0;34m(\u001b[0m\u001b[0me\u001b[0m\u001b[0;34m,\u001b[0m \u001b[0msys\u001b[0m\u001b[0;34m)\u001b[0m \u001b[0;32mfrom\u001b[0m \u001b[0me\u001b[0m\u001b[0;34m\u001b[0m\u001b[0;34m\u001b[0m\u001b[0m\n\u001b[0m\u001b[1;32m    326\u001b[0m \u001b[0;34m\u001b[0m\u001b[0m\n",
      "\u001b[0;31mRestaurantRatingException\u001b[0m: \n        Error occured in script: \n        [ /Users/sofanabenoutiq/Desktop/ProjectMl/restaurantRating/entity/mode_factory.py ] at \n        try block line number: [320] and exception block line number: [325] \n        error message: [\n        Error occured in script: \n        [ /Users/sofanabenoutiq/Desktop/ProjectMl/restaurantRating/entity/mode_factory.py ] at \n        try block line number: [305] and exception block line number: [307] \n        error message: [\n        Error occured in script: \n        [ /Users/sofanabenoutiq/Desktop/ProjectMl/restaurantRating/entity/mode_factory.py ] at \n        try block line number: [240] and exception block line number: [251] \n        error message: [Cannot have number of splits n_splits=4 greater than the number of samples: n_samples=1.]\n        ]\n        ]\n        ",
      "\nDuring handling of the above exception, another exception occurred:\n",
      "\u001b[0;31mRestaurantRatingException\u001b[0m                 Traceback (most recent call last)",
      "\u001b[0;32m/var/folders/2w/z2hkxp1s32j1p3m01sw_mwzh0000gn/T/ipykernel_31387/3631023675.py\u001b[0m in \u001b[0;36m<module>\u001b[0;34m\u001b[0m\n\u001b[0;32m----> 1\u001b[0;31m \u001b[0mbest_model\u001b[0m \u001b[0;34m=\u001b[0m \u001b[0mModel_Factory\u001b[0m\u001b[0;34m.\u001b[0m\u001b[0mget_best_model\u001b[0m\u001b[0;34m(\u001b[0m\u001b[0mx\u001b[0m\u001b[0;34m,\u001b[0m\u001b[0my\u001b[0m\u001b[0;34m)\u001b[0m\u001b[0;34m\u001b[0m\u001b[0;34m\u001b[0m\u001b[0m\n\u001b[0m",
      "\u001b[0;32m~/Desktop/ProjectMl/restaurantRating/entity/mode_factory.py\u001b[0m in \u001b[0;36mget_best_model\u001b[0;34m(self, X, y, base_accuracy)\u001b[0m\n\u001b[1;32m    370\u001b[0m                                                                                   base_accuracy=base_accuracy)\n\u001b[1;32m    371\u001b[0m         \u001b[0;32mexcept\u001b[0m \u001b[0mException\u001b[0m \u001b[0;32mas\u001b[0m \u001b[0me\u001b[0m\u001b[0;34m:\u001b[0m\u001b[0;34m\u001b[0m\u001b[0;34m\u001b[0m\u001b[0m\n\u001b[0;32m--> 372\u001b[0;31m             \u001b[0;32mraise\u001b[0m \u001b[0mRestaurantRatingException\u001b[0m\u001b[0;34m(\u001b[0m\u001b[0me\u001b[0m\u001b[0;34m,\u001b[0m \u001b[0msys\u001b[0m\u001b[0;34m)\u001b[0m\u001b[0;34m\u001b[0m\u001b[0;34m\u001b[0m\u001b[0m\n\u001b[0m",
      "\u001b[0;31mRestaurantRatingException\u001b[0m: \n        Error occured in script: \n        [ /Users/sofanabenoutiq/Desktop/ProjectMl/restaurantRating/entity/mode_factory.py ] at \n        try block line number: [367] and exception block line number: [372] \n        error message: [\n        Error occured in script: \n        [ /Users/sofanabenoutiq/Desktop/ProjectMl/restaurantRating/entity/mode_factory.py ] at \n        try block line number: [320] and exception block line number: [325] \n        error message: [\n        Error occured in script: \n        [ /Users/sofanabenoutiq/Desktop/ProjectMl/restaurantRating/entity/mode_factory.py ] at \n        try block line number: [305] and exception block line number: [307] \n        error message: [\n        Error occured in script: \n        [ /Users/sofanabenoutiq/Desktop/ProjectMl/restaurantRating/entity/mode_factory.py ] at \n        try block line number: [240] and exception block line number: [251] \n        error message: [Cannot have number of splits n_splits=4 greater than the number of samples: n_samples=1.]\n        ]\n        ]\n        ]\n        "
     ]
    }
   ],
   "source": [
    "best_model = Model_Factory.get_best_model(x,y)"
   ]
  },
  {
   "cell_type": "code",
   "execution_count": null,
   "metadata": {},
   "outputs": [],
   "source": []
  },
  {
   "cell_type": "code",
   "execution_count": null,
   "metadata": {},
   "outputs": [],
   "source": []
  },
  {
   "cell_type": "code",
   "execution_count": null,
   "metadata": {},
   "outputs": [],
   "source": []
  }
 ],
 "metadata": {
  "kernelspec": {
   "display_name": "Python 3.7.15 ('virtual')",
   "language": "python",
   "name": "python3"
  },
  "language_info": {
   "codemirror_mode": {
    "name": "ipython",
    "version": 3
   },
   "file_extension": ".py",
   "mimetype": "text/x-python",
   "name": "python",
   "nbconvert_exporter": "python",
   "pygments_lexer": "ipython3",
   "version": "3.7.15"
  },
  "orig_nbformat": 4,
  "vscode": {
   "interpreter": {
    "hash": "8c6d3ed869dd56098ec26866b0682680a10170e8beedd360174ff1c692f74d44"
   }
  }
 },
 "nbformat": 4,
 "nbformat_minor": 2
}
