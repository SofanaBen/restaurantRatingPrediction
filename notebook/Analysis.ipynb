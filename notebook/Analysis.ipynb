{
 "cells": [
  {
   "cell_type": "code",
   "execution_count": 1,
   "metadata": {},
   "outputs": [],
   "source": [
    "import os"
   ]
  },
  {
   "cell_type": "code",
   "execution_count": 2,
   "metadata": {},
   "outputs": [
    {
     "data": {
      "text/plain": [
       "'/Users/sofanabenoutiq/Desktop/restaurantRatingPredicti/restaurantRatingPrediction/notebook'"
      ]
     },
     "execution_count": 2,
     "metadata": {},
     "output_type": "execute_result"
    }
   ],
   "source": [
    "os.getcwd()"
   ]
  },
  {
   "cell_type": "code",
   "execution_count": 7,
   "metadata": {},
   "outputs": [],
   "source": [
    "import pandas as pd\n",
    "zomato_orgnl= pd.read_csv(\"https://raw.githubusercontent.com/mrinalmayank7/datascience/main/zom.csv\")\n"
   ]
  },
  {
   "cell_type": "code",
   "execution_count": 8,
   "metadata": {},
   "outputs": [
    {
     "data": {
      "text/plain": [
       "(9551, 21)"
      ]
     },
     "execution_count": 8,
     "metadata": {},
     "output_type": "execute_result"
    }
   ],
   "source": [
    "zomato_orgnl.shape"
   ]
  },
  {
   "cell_type": "code",
   "execution_count": 30,
   "metadata": {},
   "outputs": [],
   "source": [
    "# zomato_orgnl.head(100)"
   ]
  },
  {
   "cell_type": "code",
   "execution_count": 10,
   "metadata": {},
   "outputs": [],
   "source": [
    "from sklearn.model_selection import train_test_split, StratifiedShuffleSplit"
   ]
  },
  {
   "cell_type": "code",
   "execution_count": 15,
   "metadata": {},
   "outputs": [],
   "source": [
    "strat_train_set = []\n",
    "strat_test_set = []"
   ]
  },
  {
   "cell_type": "code",
   "execution_count": 25,
   "metadata": {},
   "outputs": [],
   "source": [
    "split = StratifiedShuffleSplit(n_splits=1, test_size=0.2, random_state=45)"
   ]
  },
  {
   "cell_type": "code",
   "execution_count": 26,
   "metadata": {},
   "outputs": [
    {
     "name": "stdout",
     "output_type": "stream",
     "text": [
      "0       4\n",
      "1       4\n",
      "2       4\n",
      "3       4\n",
      "4       4\n",
      "       ..\n",
      "9546    4\n",
      "9547    4\n",
      "9548    3\n",
      "9549    4\n",
      "9550    4\n",
      "Name: Rating, Length: 9551, dtype: int64\n"
     ]
    }
   ],
   "source": [
    "for train_index,test_index in split.split(zomato_orgnl,zomato_orgnl['Rating']):\n",
    "    strat_train_set = zomato_orgnl.loc[train_index].drop([\"Restaurant ID\"],axis=1)\n",
    "    strat_test_set = zomato_orgnl.loc[test_index].drop([\"Restaurant ID\"],axis=1) \n",
    "# print(test_index)\n",
    "print(zomato_orgnl['Rating'])"
   ]
  },
  {
   "cell_type": "code",
   "execution_count": null,
   "metadata": {},
   "outputs": [],
   "source": []
  },
  {
   "cell_type": "code",
   "execution_count": 27,
   "metadata": {},
   "outputs": [],
   "source": [
    "zomato_orgnl['Rating'] = zomato_orgnl['Rating'].astype(int)"
   ]
  },
  {
   "cell_type": "code",
   "execution_count": 28,
   "metadata": {},
   "outputs": [
    {
     "data": {
      "text/plain": [
       "dtype('int64')"
      ]
     },
     "execution_count": 28,
     "metadata": {},
     "output_type": "execute_result"
    }
   ],
   "source": [
    "zomato_orgnl['Rating'].dtype"
   ]
  },
  {
   "cell_type": "code",
   "execution_count": 29,
   "metadata": {},
   "outputs": [
    {
     "name": "stdout",
     "output_type": "stream",
     "text": [
      "[1692  324 8921 ... 7667 9073 1182]\n"
     ]
    }
   ],
   "source": [
    "for train_index,test_index in split.split(zomato_orgnl,zomato_orgnl['Rating']):\n",
    "    strat_train_set = zomato_orgnl.loc[train_index].drop([\"Restaurant ID\"],axis=1)\n",
    "    strat_test_set = zomato_orgnl.loc[test_index].drop([\"Restaurant ID\"],axis=1) \n",
    "print(test_index)\n",
    "# print(zomato_orgnl['Rating'])"
   ]
  },
  {
   "cell_type": "code",
   "execution_count": null,
   "metadata": {},
   "outputs": [],
   "source": []
  }
 ],
 "metadata": {
  "kernelspec": {
   "display_name": "Python 3.7.15 ('virtual')",
   "language": "python",
   "name": "python3"
  },
  "language_info": {
   "codemirror_mode": {
    "name": "ipython",
    "version": 3
   },
   "file_extension": ".py",
   "mimetype": "text/x-python",
   "name": "python",
   "nbconvert_exporter": "python",
   "pygments_lexer": "ipython3",
   "version": "3.7.15"
  },
  "orig_nbformat": 4,
  "vscode": {
   "interpreter": {
    "hash": "8c6d3ed869dd56098ec26866b0682680a10170e8beedd360174ff1c692f74d44"
   }
  }
 },
 "nbformat": 4,
 "nbformat_minor": 2
}
